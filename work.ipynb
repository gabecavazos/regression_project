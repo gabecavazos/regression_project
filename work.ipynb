{
 "cells": [
  {
   "cell_type": "code",
   "execution_count": 1,
   "id": "f45d2e91-cfce-470e-bc0c-1af1a4355c53",
   "metadata": {},
   "outputs": [],
   "source": [
    "import pandas as pd\n",
    "import numpy as np\n",
    "import wrangle_zillow as wrangle\n",
    "import evaluate\n",
    "import matplotlib.pyplot as plt\n",
    "import seaborn as sns\n",
    "\n",
    "# modeling methods\n",
    "from sklearn.metrics import mean_squared_error\n",
    "from sklearn.linear_model import LinearRegression, LassoLars, TweedieRegressor\n",
    "from sklearn.preprocessing import PolynomialFeatures\n",
    "from sklearn.metrics import explained_variance_score\n",
    "from sklearn.model_selection import train_test_split\n",
    "from lazypredict.Supervised import LazyClassifier, LazyRegressor\n",
    "from sklearn.preprocessing import MinMaxScaler, StandardScaler, RobustScaler, QuantileTransformer\n",
    "\n",
    "# feature selection:\n",
    "from sklearn.feature_selection import SelectKBest, RFE, f_regression\n",
    "\n",
    "\n",
    "import warnings\n",
    "warnings.filterwarnings(\"ignore\")"
   ]
  },
  {
   "cell_type": "code",
   "execution_count": 2,
   "id": "4f8582d6-7880-4dd3-adff-690b847a539a",
   "metadata": {},
   "outputs": [],
   "source": [
    "zillow = pd.read_csv('zillow.csv')"
   ]
  },
  {
   "cell_type": "code",
   "execution_count": 3,
   "id": "8e3a95fe-631e-479b-8392-afbfe0806416",
   "metadata": {},
   "outputs": [
    {
     "data": {
      "text/html": [
       "<div>\n",
       "<style scoped>\n",
       "    .dataframe tbody tr th:only-of-type {\n",
       "        vertical-align: middle;\n",
       "    }\n",
       "\n",
       "    .dataframe tbody tr th {\n",
       "        vertical-align: top;\n",
       "    }\n",
       "\n",
       "    .dataframe thead th {\n",
       "        text-align: right;\n",
       "    }\n",
       "</style>\n",
       "<table border=\"1\" class=\"dataframe\">\n",
       "  <thead>\n",
       "    <tr style=\"text-align: right;\">\n",
       "      <th></th>\n",
       "      <th>bedrooms</th>\n",
       "      <th>bathrooms</th>\n",
       "      <th>area</th>\n",
       "      <th>tax_value</th>\n",
       "      <th>year_built</th>\n",
       "      <th>taxamount</th>\n",
       "      <th>fips</th>\n",
       "    </tr>\n",
       "  </thead>\n",
       "  <tbody>\n",
       "    <tr>\n",
       "      <th>0</th>\n",
       "      <td>0.00</td>\n",
       "      <td>0.00</td>\n",
       "      <td>NaN</td>\n",
       "      <td>27516.00</td>\n",
       "      <td>NaN</td>\n",
       "      <td>NaN</td>\n",
       "      <td>6037.00</td>\n",
       "    </tr>\n",
       "    <tr>\n",
       "      <th>1</th>\n",
       "      <td>0.00</td>\n",
       "      <td>0.00</td>\n",
       "      <td>NaN</td>\n",
       "      <td>10.00</td>\n",
       "      <td>NaN</td>\n",
       "      <td>NaN</td>\n",
       "      <td>6037.00</td>\n",
       "    </tr>\n",
       "    <tr>\n",
       "      <th>2</th>\n",
       "      <td>0.00</td>\n",
       "      <td>0.00</td>\n",
       "      <td>NaN</td>\n",
       "      <td>10.00</td>\n",
       "      <td>NaN</td>\n",
       "      <td>NaN</td>\n",
       "      <td>6037.00</td>\n",
       "    </tr>\n",
       "    <tr>\n",
       "      <th>3</th>\n",
       "      <td>0.00</td>\n",
       "      <td>0.00</td>\n",
       "      <td>NaN</td>\n",
       "      <td>2108.00</td>\n",
       "      <td>NaN</td>\n",
       "      <td>174.21</td>\n",
       "      <td>6037.00</td>\n",
       "    </tr>\n",
       "    <tr>\n",
       "      <th>4</th>\n",
       "      <td>4.00</td>\n",
       "      <td>2.00</td>\n",
       "      <td>3633.00</td>\n",
       "      <td>296425.00</td>\n",
       "      <td>2005.00</td>\n",
       "      <td>6941.39</td>\n",
       "      <td>6037.00</td>\n",
       "    </tr>\n",
       "  </tbody>\n",
       "</table>\n",
       "</div>"
      ],
      "text/plain": [
       "   bedrooms  bathrooms    area  tax_value  year_built  taxamount    fips\n",
       "0      0.00       0.00     NaN   27516.00         NaN        NaN 6037.00\n",
       "1      0.00       0.00     NaN      10.00         NaN        NaN 6037.00\n",
       "2      0.00       0.00     NaN      10.00         NaN        NaN 6037.00\n",
       "3      0.00       0.00     NaN    2108.00         NaN     174.21 6037.00\n",
       "4      4.00       2.00 3633.00  296425.00     2005.00    6941.39 6037.00"
      ]
     },
     "execution_count": 3,
     "metadata": {},
     "output_type": "execute_result"
    }
   ],
   "source": [
    "zillow.head()"
   ]
  },
  {
   "cell_type": "code",
   "execution_count": 4,
   "id": "1bb3a751-3be0-435c-a197-0985fc1f544c",
   "metadata": {},
   "outputs": [],
   "source": [
    "train, validate, test = wrangle.prepare_zillow(zillow)"
   ]
  },
  {
   "cell_type": "code",
   "execution_count": 5,
   "id": "54776d0e-5ee1-44c3-98da-23cffd370529",
   "metadata": {},
   "outputs": [
    {
     "data": {
      "text/plain": [
       "((1038959, 7), (445269, 7), (371057, 7))"
      ]
     },
     "execution_count": 5,
     "metadata": {},
     "output_type": "execute_result"
    }
   ],
   "source": [
    "train.shape, validate.shape, test.shape"
   ]
  },
  {
   "cell_type": "code",
   "execution_count": 6,
   "id": "f07c0f22-0269-4c9f-8449-dbe52474d7b4",
   "metadata": {},
   "outputs": [],
   "source": [
    "train['age'] = 2017 - train.year_built\n",
    "validate['age'] = 2017 - validate.year_built\n",
    "test['age'] = 2017 - test.year_built"
   ]
  },
  {
   "cell_type": "code",
   "execution_count": 7,
   "id": "69575b4d-05c0-4c51-b0cf-2ee640dbfff1",
   "metadata": {},
   "outputs": [],
   "source": [
    "train = train.sample(1000, random_state=12)\n",
    "validate = validate.sample(100, random_state=12)\n",
    "test = test.sample(100, random_state=12)"
   ]
  },
  {
   "cell_type": "code",
   "execution_count": 8,
   "id": "57dd475c-df18-4704-85fa-680aaf0d780f",
   "metadata": {},
   "outputs": [
    {
     "data": {
      "text/plain": [
       "Index(['bedrooms', 'bathrooms', 'area', 'tax_value', 'year_built', 'taxamount',\n",
       "       'fips', 'age'],\n",
       "      dtype='object')"
      ]
     },
     "execution_count": 8,
     "metadata": {},
     "output_type": "execute_result"
    }
   ],
   "source": [
    "train.columns"
   ]
  },
  {
   "cell_type": "code",
   "execution_count": 9,
   "id": "9e682bea-69a0-43db-8977-1ea317853fa2",
   "metadata": {},
   "outputs": [
    {
     "data": {
      "text/html": [
       "<div>\n",
       "<style scoped>\n",
       "    .dataframe tbody tr th:only-of-type {\n",
       "        vertical-align: middle;\n",
       "    }\n",
       "\n",
       "    .dataframe tbody tr th {\n",
       "        vertical-align: top;\n",
       "    }\n",
       "\n",
       "    .dataframe thead th {\n",
       "        text-align: right;\n",
       "    }\n",
       "</style>\n",
       "<table border=\"1\" class=\"dataframe\">\n",
       "  <thead>\n",
       "    <tr style=\"text-align: right;\">\n",
       "      <th></th>\n",
       "      <th>bedrooms</th>\n",
       "      <th>bathrooms</th>\n",
       "      <th>area</th>\n",
       "      <th>tax_value</th>\n",
       "      <th>year_built</th>\n",
       "      <th>taxamount</th>\n",
       "      <th>fips</th>\n",
       "      <th>age</th>\n",
       "    </tr>\n",
       "  </thead>\n",
       "  <tbody>\n",
       "    <tr>\n",
       "      <th>1158290</th>\n",
       "      <td>3.00</td>\n",
       "      <td>2.00</td>\n",
       "      <td>1612.00</td>\n",
       "      <td>518016.00</td>\n",
       "      <td>1955.00</td>\n",
       "      <td>6567.84</td>\n",
       "      <td>6037.00</td>\n",
       "      <td>62.00</td>\n",
       "    </tr>\n",
       "    <tr>\n",
       "      <th>644231</th>\n",
       "      <td>4.00</td>\n",
       "      <td>2.00</td>\n",
       "      <td>1805.00</td>\n",
       "      <td>573616.00</td>\n",
       "      <td>1972.00</td>\n",
       "      <td>6843.24</td>\n",
       "      <td>6059.00</td>\n",
       "      <td>45.00</td>\n",
       "    </tr>\n",
       "    <tr>\n",
       "      <th>1459488</th>\n",
       "      <td>2.00</td>\n",
       "      <td>1.00</td>\n",
       "      <td>1218.00</td>\n",
       "      <td>182417.00</td>\n",
       "      <td>1951.00</td>\n",
       "      <td>2680.17</td>\n",
       "      <td>6037.00</td>\n",
       "      <td>66.00</td>\n",
       "    </tr>\n",
       "    <tr>\n",
       "      <th>2149989</th>\n",
       "      <td>3.00</td>\n",
       "      <td>2.50</td>\n",
       "      <td>1885.00</td>\n",
       "      <td>358469.00</td>\n",
       "      <td>1965.00</td>\n",
       "      <td>4410.72</td>\n",
       "      <td>6059.00</td>\n",
       "      <td>52.00</td>\n",
       "    </tr>\n",
       "    <tr>\n",
       "      <th>185697</th>\n",
       "      <td>3.00</td>\n",
       "      <td>2.00</td>\n",
       "      <td>1477.00</td>\n",
       "      <td>229000.00</td>\n",
       "      <td>1994.00</td>\n",
       "      <td>3575.09</td>\n",
       "      <td>6037.00</td>\n",
       "      <td>23.00</td>\n",
       "    </tr>\n",
       "  </tbody>\n",
       "</table>\n",
       "</div>"
      ],
      "text/plain": [
       "         bedrooms  bathrooms    area  tax_value  year_built  taxamount  \\\n",
       "1158290      3.00       2.00 1612.00  518016.00     1955.00    6567.84   \n",
       "644231       4.00       2.00 1805.00  573616.00     1972.00    6843.24   \n",
       "1459488      2.00       1.00 1218.00  182417.00     1951.00    2680.17   \n",
       "2149989      3.00       2.50 1885.00  358469.00     1965.00    4410.72   \n",
       "185697       3.00       2.00 1477.00  229000.00     1994.00    3575.09   \n",
       "\n",
       "           fips   age  \n",
       "1158290 6037.00 62.00  \n",
       "644231  6059.00 45.00  \n",
       "1459488 6037.00 66.00  \n",
       "2149989 6059.00 52.00  \n",
       "185697  6037.00 23.00  "
      ]
     },
     "execution_count": 9,
     "metadata": {},
     "output_type": "execute_result"
    }
   ],
   "source": [
    "train.head()"
   ]
  },
  {
   "cell_type": "code",
   "execution_count": 10,
   "id": "e3bae53b-ecee-4fcc-888c-3a53087349c7",
   "metadata": {},
   "outputs": [],
   "source": [
    "train_scaled, validate_scaled, test_scaled = wrangle.scale_data(train, validate, test, columns_to_scale=['area','age'])"
   ]
  },
  {
   "cell_type": "code",
   "execution_count": 11,
   "id": "66f21f3c-9b8b-44dc-9e8b-e2f792659979",
   "metadata": {},
   "outputs": [],
   "source": [
    "X_train = train.drop(columns=['tax_value'])\n",
    "y_train = train.tax_value\n",
    "X_test = test.drop(columns=['tax_value'])\n",
    "y_test = test.tax_value"
   ]
  },
  {
   "cell_type": "code",
   "execution_count": 12,
   "id": "c06a00ed-9850-4e0f-8b0e-74fe7be78d55",
   "metadata": {},
   "outputs": [
    {
     "data": {
      "text/plain": [
       "bedrooms      float64\n",
       "bathrooms     float64\n",
       "area          float64\n",
       "year_built    float64\n",
       "taxamount     float64\n",
       "fips           object\n",
       "age           float64\n",
       "dtype: object"
      ]
     },
     "execution_count": 12,
     "metadata": {},
     "output_type": "execute_result"
    }
   ],
   "source": [
    "X_train.dtypes"
   ]
  },
  {
   "cell_type": "code",
   "execution_count": 13,
   "id": "7f509e5f-6cd0-4f82-918f-9348fc056c84",
   "metadata": {},
   "outputs": [
    {
     "data": {
      "text/plain": [
       "1158290   518016.00\n",
       "644231    573616.00\n",
       "1459488   182417.00\n",
       "2149989   358469.00\n",
       "185697    229000.00\n",
       "             ...   \n",
       "1971825   785000.00\n",
       "337324     32666.00\n",
       "796028    400005.00\n",
       "674210    201361.00\n",
       "1042373   428769.00\n",
       "Name: tax_value, Length: 1000, dtype: float64"
      ]
     },
     "execution_count": 13,
     "metadata": {},
     "output_type": "execute_result"
    }
   ],
   "source": [
    "train.tax_value"
   ]
  },
  {
   "cell_type": "code",
   "execution_count": 14,
   "id": "178608c4-5fc8-459c-9b7c-b058331e3c78",
   "metadata": {},
   "outputs": [
    {
     "data": {
      "text/plain": [
       "1158290   518016.00\n",
       "644231    573616.00\n",
       "1459488   182417.00\n",
       "2149989   358469.00\n",
       "185697    229000.00\n",
       "             ...   \n",
       "1971825   785000.00\n",
       "337324     32666.00\n",
       "796028    400005.00\n",
       "674210    201361.00\n",
       "1042373   428769.00\n",
       "Name: tax_value, Length: 1000, dtype: float64"
      ]
     },
     "execution_count": 14,
     "metadata": {},
     "output_type": "execute_result"
    }
   ],
   "source": [
    "train['tax_value']"
   ]
  },
  {
   "cell_type": "code",
   "execution_count": null,
   "id": "ca1ae4c1-5089-4ec9-a633-e29d672ffa09",
   "metadata": {},
   "outputs": [],
   "source": [
    "evaluate."
   ]
  },
  {
   "cell_type": "code",
   "execution_count": 14,
   "id": "9882160a-9250-46ea-93d1-86738abd6071",
   "metadata": {},
   "outputs": [
    {
     "name": "stderr",
     "output_type": "stream",
     "text": [
      "100%|████████████████████████████████████████████████████████████████| 42/42 [00:19<00:00,  2.15it/s]\n"
     ]
    }
   ],
   "source": [
    "reg = LazyRegressor(predictions=True)\n",
    "models, predictions = reg.fit(X_train, X_test, y_train, y_test)"
   ]
  },
  {
   "cell_type": "code",
   "execution_count": 15,
   "id": "108c56e1-314d-4e07-99d0-7fcb6331a882",
   "metadata": {},
   "outputs": [
    {
     "name": "stdout",
     "output_type": "stream",
     "text": [
      "                               Adjusted R-Squared  R-Squared        RMSE  \\\n",
      "Model                                                                      \n",
      "GradientBoostingRegressor                    0.96       0.96    37551.85   \n",
      "LGBMRegressor                                0.95       0.96    37923.18   \n",
      "HistGradientBoostingRegressor                0.95       0.96    38110.74   \n",
      "XGBRegressor                                 0.95       0.95    39236.42   \n",
      "ExtraTreesRegressor                          0.95       0.95    39249.84   \n",
      "RANSACRegressor                              0.95       0.95    39286.50   \n",
      "HuberRegressor                               0.95       0.95    39870.70   \n",
      "TransformedTargetRegressor                   0.95       0.95    39979.66   \n",
      "LinearRegression                             0.95       0.95    39979.66   \n",
      "BayesianRidge                                0.95       0.95    39979.82   \n",
      "Lasso                                        0.95       0.95    39979.83   \n",
      "Ridge                                        0.95       0.95    39980.64   \n",
      "RidgeCV                                      0.95       0.95    39980.64   \n",
      "SGDRegressor                                 0.95       0.95    39988.42   \n",
      "Lars                                         0.95       0.95    40032.59   \n",
      "LarsCV                                       0.95       0.95    40035.35   \n",
      "LassoLarsCV                                  0.95       0.95    40035.35   \n",
      "LassoLars                                    0.95       0.95    40035.65   \n",
      "LassoCV                                      0.95       0.95    40040.20   \n",
      "LassoLarsIC                                  0.95       0.95    40057.40   \n",
      "KernelRidge                                  0.95       0.95    40192.40   \n",
      "OrthogonalMatchingPursuitCV                  0.95       0.95    40317.99   \n",
      "RandomForestRegressor                        0.94       0.95    41724.26   \n",
      "PassiveAggressiveRegressor                   0.94       0.95    41809.85   \n",
      "OrthogonalMatchingPursuit                    0.94       0.94    44495.21   \n",
      "BaggingRegressor                             0.94       0.94    44971.47   \n",
      "AdaBoostRegressor                            0.93       0.93    48187.28   \n",
      "DecisionTreeRegressor                        0.91       0.91    53769.58   \n",
      "ExtraTreeRegressor                           0.91       0.91    53865.06   \n",
      "KNeighborsRegressor                          0.89       0.90    58841.22   \n",
      "PoissonRegressor                             0.87       0.88    63572.20   \n",
      "ElasticNet                                   0.83       0.84    73095.17   \n",
      "TweedieRegressor                             0.70       0.72    97811.08   \n",
      "GammaRegressor                               0.66       0.68   104270.58   \n",
      "ElasticNetCV                                -0.06       0.01   183252.43   \n",
      "DummyRegressor                              -0.08      -0.00   184471.69   \n",
      "NuSVR                                       -0.08      -0.01   184907.09   \n",
      "SVR                                         -0.10      -0.03   186770.94   \n",
      "QuantileRegressor                           -0.10      -0.03   186804.89   \n",
      "LinearSVR                                   -3.28      -2.98   367814.45   \n",
      "MLPRegressor                                -3.30      -3.00   368623.77   \n",
      "GaussianProcessRegressor                -16307.12  -15154.02 22702214.58   \n",
      "\n",
      "                               Time Taken  \n",
      "Model                                      \n",
      "GradientBoostingRegressor            0.15  \n",
      "LGBMRegressor                        0.10  \n",
      "HistGradientBoostingRegressor        0.64  \n",
      "XGBRegressor                         0.12  \n",
      "ExtraTreesRegressor                  0.26  \n",
      "RANSACRegressor                      0.03  \n",
      "HuberRegressor                       0.04  \n",
      "TransformedTargetRegressor           0.02  \n",
      "LinearRegression                     0.02  \n",
      "BayesianRidge                        0.04  \n",
      "Lasso                                0.02  \n",
      "Ridge                                0.02  \n",
      "RidgeCV                              0.02  \n",
      "SGDRegressor                         0.03  \n",
      "Lars                                 0.02  \n",
      "LarsCV                               0.03  \n",
      "LassoLarsCV                          0.03  \n",
      "LassoLars                            0.02  \n",
      "LassoCV                              0.07  \n",
      "LassoLarsIC                          0.02  \n",
      "KernelRidge                          0.04  \n",
      "OrthogonalMatchingPursuitCV          0.02  \n",
      "RandomForestRegressor                0.41  \n",
      "PassiveAggressiveRegressor           0.07  \n",
      "OrthogonalMatchingPursuit            0.01  \n",
      "BaggingRegressor                     0.06  \n",
      "AdaBoostRegressor                    0.14  \n",
      "DecisionTreeRegressor                0.02  \n",
      "ExtraTreeRegressor                   0.03  \n",
      "KNeighborsRegressor                  0.03  \n",
      "PoissonRegressor                     0.03  \n",
      "ElasticNet                           0.02  \n",
      "TweedieRegressor                     0.02  \n",
      "GammaRegressor                       0.01  \n",
      "ElasticNetCV                         0.08  \n",
      "DummyRegressor                       0.02  \n",
      "NuSVR                                0.06  \n",
      "SVR                                  0.13  \n",
      "QuantileRegressor                   15.46  \n",
      "LinearSVR                            0.02  \n",
      "MLPRegressor                         1.06  \n",
      "GaussianProcessRegressor             0.10  \n"
     ]
    }
   ],
   "source": [
    "print(models)"
   ]
  },
  {
   "cell_type": "code",
   "execution_count": 16,
   "id": "4478de53-2b91-45b1-99dd-067705947c0b",
   "metadata": {},
   "outputs": [],
   "source": [
    "X_train_scaled = train_scaled.drop(columns=['tax_value'])\n",
    "y_train_scaled = train_scaled.tax_value\n",
    "X_test_scaled = test_scaled.drop(columns=['tax_value'])\n",
    "y_test_scaled = test_scaled.tax_value"
   ]
  },
  {
   "cell_type": "code",
   "execution_count": 17,
   "id": "e9b01aa1-f841-4833-9162-316c0a3873f6",
   "metadata": {},
   "outputs": [
    {
     "name": "stderr",
     "output_type": "stream",
     "text": [
      "100%|████████████████████████████████████████████████████████████████| 42/42 [00:19<00:00,  2.13it/s]\n"
     ]
    }
   ],
   "source": [
    "reg = LazyRegressor(predictions=True)\n",
    "models_scaled, predictions_scaled = reg.fit(X_train_scaled, X_test_scaled, y_train_scaled, y_test_scaled)"
   ]
  },
  {
   "cell_type": "code",
   "execution_count": 18,
   "id": "2b8b7d6f-a816-494f-8296-be5191f5f0a0",
   "metadata": {},
   "outputs": [
    {
     "name": "stdout",
     "output_type": "stream",
     "text": [
      "                               Adjusted R-Squared  R-Squared        RMSE  \\\n",
      "Model                                                                      \n",
      "GradientBoostingRegressor                    0.96       0.96    37551.85   \n",
      "LGBMRegressor                                0.95       0.96    37923.18   \n",
      "HistGradientBoostingRegressor                0.95       0.96    38110.74   \n",
      "XGBRegressor                                 0.95       0.95    39236.42   \n",
      "ExtraTreesRegressor                          0.95       0.95    39249.84   \n",
      "RANSACRegressor                              0.95       0.95    39286.50   \n",
      "HuberRegressor                               0.95       0.95    39870.70   \n",
      "LinearRegression                             0.95       0.95    39979.66   \n",
      "TransformedTargetRegressor                   0.95       0.95    39979.66   \n",
      "Lars                                         0.95       0.95    39979.66   \n",
      "BayesianRidge                                0.95       0.95    39979.82   \n",
      "Lasso                                        0.95       0.95    39979.83   \n",
      "RidgeCV                                      0.95       0.95    39980.64   \n",
      "Ridge                                        0.95       0.95    39980.64   \n",
      "LassoLars                                    0.95       0.95    39984.08   \n",
      "SGDRegressor                                 0.95       0.95    39988.42   \n",
      "LarsCV                                       0.95       0.95    39994.85   \n",
      "LassoLarsCV                                  0.95       0.95    39994.85   \n",
      "LassoCV                                      0.95       0.95    40040.20   \n",
      "LassoLarsIC                                  0.95       0.95    40076.21   \n",
      "KernelRidge                                  0.95       0.95    40192.40   \n",
      "OrthogonalMatchingPursuitCV                  0.95       0.95    40317.99   \n",
      "RandomForestRegressor                        0.94       0.95    41724.26   \n",
      "PassiveAggressiveRegressor                   0.94       0.95    41809.85   \n",
      "OrthogonalMatchingPursuit                    0.94       0.94    44495.21   \n",
      "BaggingRegressor                             0.94       0.94    44971.47   \n",
      "AdaBoostRegressor                            0.93       0.93    48187.28   \n",
      "DecisionTreeRegressor                        0.91       0.91    53769.58   \n",
      "ExtraTreeRegressor                           0.91       0.91    53865.06   \n",
      "KNeighborsRegressor                          0.89       0.90    58841.22   \n",
      "PoissonRegressor                             0.87       0.88    63572.20   \n",
      "ElasticNet                                   0.83       0.84    73095.17   \n",
      "TweedieRegressor                             0.70       0.72    97811.08   \n",
      "GammaRegressor                               0.66       0.68   104270.58   \n",
      "ElasticNetCV                                -0.06       0.01   183252.43   \n",
      "DummyRegressor                              -0.08      -0.00   184471.69   \n",
      "NuSVR                                       -0.08      -0.01   184907.09   \n",
      "SVR                                         -0.10      -0.03   186770.94   \n",
      "QuantileRegressor                           -0.10      -0.03   186804.89   \n",
      "LinearSVR                                   -3.28      -2.98   367814.45   \n",
      "MLPRegressor                                -3.30      -3.00   368623.77   \n",
      "GaussianProcessRegressor                -16307.08  -15153.98 22702187.08   \n",
      "\n",
      "                               Time Taken  \n",
      "Model                                      \n",
      "GradientBoostingRegressor            0.16  \n",
      "LGBMRegressor                        0.11  \n",
      "HistGradientBoostingRegressor        0.69  \n",
      "XGBRegressor                         0.13  \n",
      "ExtraTreesRegressor                  0.27  \n",
      "RANSACRegressor                      0.02  \n",
      "HuberRegressor                       0.05  \n",
      "LinearRegression                     0.02  \n",
      "TransformedTargetRegressor           0.03  \n",
      "Lars                                 0.03  \n",
      "BayesianRidge                        0.01  \n",
      "Lasso                                0.01  \n",
      "RidgeCV                              0.02  \n",
      "Ridge                                0.02  \n",
      "LassoLars                            0.02  \n",
      "SGDRegressor                         0.02  \n",
      "LarsCV                               0.03  \n",
      "LassoLarsCV                          0.03  \n",
      "LassoCV                              0.07  \n",
      "LassoLarsIC                          0.02  \n",
      "KernelRidge                          0.05  \n",
      "OrthogonalMatchingPursuitCV          0.03  \n",
      "RandomForestRegressor                0.41  \n",
      "PassiveAggressiveRegressor           0.07  \n",
      "OrthogonalMatchingPursuit            0.01  \n",
      "BaggingRegressor                     0.06  \n",
      "AdaBoostRegressor                    0.14  \n",
      "DecisionTreeRegressor                0.02  \n",
      "ExtraTreeRegressor                   0.02  \n",
      "KNeighborsRegressor                  0.02  \n",
      "PoissonRegressor                     0.02  \n",
      "ElasticNet                           0.02  \n",
      "TweedieRegressor                     0.02  \n",
      "GammaRegressor                       0.01  \n",
      "ElasticNetCV                         0.08  \n",
      "DummyRegressor                       0.02  \n",
      "NuSVR                                0.06  \n",
      "SVR                                  0.12  \n",
      "QuantileRegressor                   15.59  \n",
      "LinearSVR                            0.02  \n",
      "MLPRegressor                         1.07  \n",
      "GaussianProcessRegressor             0.08  \n"
     ]
    }
   ],
   "source": [
    "print(models_scaled)"
   ]
  },
  {
   "cell_type": "code",
   "execution_count": null,
   "id": "b51f125a-8a4d-4ba5-863f-57021b822575",
   "metadata": {},
   "outputs": [],
   "source": []
  }
 ],
 "metadata": {
  "kernelspec": {
   "display_name": "Python 3 (ipykernel)",
   "language": "python",
   "name": "python3"
  },
  "language_info": {
   "codemirror_mode": {
    "name": "ipython",
    "version": 3
   },
   "file_extension": ".py",
   "mimetype": "text/x-python",
   "name": "python",
   "nbconvert_exporter": "python",
   "pygments_lexer": "ipython3",
   "version": "3.9.13"
  }
 },
 "nbformat": 4,
 "nbformat_minor": 5
}
